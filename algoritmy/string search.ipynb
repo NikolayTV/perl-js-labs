{
 "cells": [
  {
   "cell_type": "code",
   "execution_count": 73,
   "metadata": {},
   "outputs": [],
   "source": [
    "import random\n",
    "import string\n",
    "\n",
    "class timeit():\n",
    "    from datetime import datetime\n",
    "    \n",
    "    def __enter__(self):\n",
    "        self.tic = self.datetime.now()\n",
    "    def __exit__(self, *args, **kwargs):\n",
    "        print('runtime: {}'.format(self.datetime.now() - self.tic))"
   ]
  },
  {
   "cell_type": "code",
   "execution_count": 88,
   "metadata": {},
   "outputs": [],
   "source": [
    "\n",
    "s = 'wqeqweqweqweweweweweqefsafsafsafdfdfdf'\n",
    "x = 'df'\n",
    "\n",
    "def simple_search(s, x):\n",
    "    i=j=0\n",
    "    count=0\n",
    "    lengthS = len(s)# Длина строки в которой ищем\n",
    "    lengthX = len(x)# -||- которую ищем\n",
    "    # пока не достигли одного из концов\n",
    "    while i<=lengthS - lengthX:\n",
    "        # если совпали буквы продвигаемся по обеим строкам\n",
    "        if s[i+j]==x[j]:\n",
    "            j+=1\n",
    "            # если дошли до конца подстроки - нашли, иначе - нет\n",
    "            if j==lengthX:\n",
    "                count += 1\n",
    "                j = 0\n",
    "                i += 1\n",
    "        # иначе двигаемся по строке(+1), начиная с 0 символа подстроки\n",
    "        else:\n",
    "            i+=1\n",
    "            j=0\n",
    "\n",
    "    return count\n",
    "\n",
    "\n",
    "def python_search(string, sub, listindex=[], offset=0):\n",
    "    i = string.find(sub, offset)\n",
    "    while i >= 0:\n",
    "        listindex.append(i)\n",
    "        i = string.find(sub, i + 1)\n",
    "    return listindex"
   ]
  },
  {
   "cell_type": "code",
   "execution_count": 80,
   "metadata": {
    "scrolled": true
   },
   "outputs": [
    {
     "name": "stdout",
     "output_type": "stream",
     "text": [
      "[5, 1, 2, 5, 3, 1, 0, 3, 1, 1, 3, 1, 2, 2, 2, 3, 1, 2, 1, 2, 4, 3, 2, 1, 6, 1, 4, 1, 4, 8, 3, 3, 3, 1, 2, 3, 0, 0, 1, 3, 3, 2, 3, 5, 1, 3, 2, 1, 4, 1, 1, 6, 1, 0, 4, 2, 3, 0, 2, 2, 2, 1, 0, 3, 1, 5, 3, 2, 0, 1, 2, 4, 1, 0, 5, 5, 3, 2, 3, 3, 4, 1, 1, 2, 5, 1, 1, 2, 3, 3, 1, 2, 3, 0, 5, 3, 3, 3, 3, 0]\n",
      "runtime: 0:00:14.654557\n"
     ]
    }
   ],
   "source": [
    "bigString = ''.join([random.choice(string.ascii_lowercase) for n in range(1000000)])\n",
    "smallStrings = [''.join([random.choice(string.ascii_lowercase) for n in range(5)]) for i in range(100)]\n"
   ]
  },
  {
   "cell_type": "code",
   "execution_count": null,
   "metadata": {},
   "outputs": [],
   "source": []
  },
  {
   "cell_type": "code",
   "execution_count": 94,
   "metadata": {},
   "outputs": [
    {
     "name": "stdout",
     "output_type": "stream",
     "text": [
      "*** Python search ***\n",
      "[1, 0, 0, 0, 0, 0, 0, 0, 0, 0, 0, 0, 0, 0, 0, 0, 0, 0, 0, 1, 0, 1, 0, 0, 0, 2, 0, 0, 0, 1, 0, 0, 0, 0, 0, 0, 0, 0, 0, 1, 0, 0, 0, 0, 0, 0, 0, 0, 1, 0, 1, 0, 1, 0, 0, 0, 0, 0, 0, 0, 0, 0, 0, 0, 0, 0, 1, 0, 0, 0, 1, 0, 0, 0, 0, 0, 0, 0, 0, 0, 0, 0, 0, 0, 0, 0, 1, 0, 0, 0, 0, 0, 0, 0, 1, 0, 0, 0, 0, 0]\n",
      "runtime: 0:00:00.071119\n"
     ]
    }
   ],
   "source": [
    "with timeit():\n",
    "    list = []\n",
    "    for i in smallStrings:\n",
    "        list.append(bigString.count(i))\n",
    "    print(\"*** Python search ***\")\n",
    "    print(list)\n"
   ]
  },
  {
   "cell_type": "code",
   "execution_count": 95,
   "metadata": {},
   "outputs": [
    {
     "name": "stdout",
     "output_type": "stream",
     "text": [
      "*** Simple search ***\n",
      "[1, 0, 0, 0, 0, 0, 0, 0, 0, 0, 0, 0, 0, 0, 0, 0, 0, 0, 0, 1, 0, 1, 0, 0, 0, 2, 0, 0, 0, 1, 0, 0, 0, 0, 0, 0, 0, 0, 0, 1, 0, 0, 0, 0, 0, 0, 0, 0, 1, 0, 1, 0, 1, 0, 0, 0, 0, 0, 0, 0, 0, 0, 0, 0, 0, 0, 1, 0, 0, 0, 1, 0, 0, 0, 0, 0, 0, 0, 0, 0, 0, 0, 0, 0, 0, 0, 1, 0, 0, 0, 0, 0, 0, 0, 1, 0, 0, 0, 0, 0]\n",
      "runtime: 0:00:15.253961\n"
     ]
    }
   ],
   "source": [
    "with timeit():\n",
    "    list = []\n",
    "    for i in smallStrings:\n",
    "        list.append(simple_search(bigString, i))\n",
    "    print(\"*** Simple search ***\")\n",
    "    print(list)\n"
   ]
  },
  {
   "cell_type": "code",
   "execution_count": 254,
   "metadata": {
    "scrolled": true
   },
   "outputs": [
    {
     "name": "stdout",
     "output_type": "stream",
     "text": [
      "agfzm\n",
      "[1, 1, 2, 3, 4, 5]\n",
      "mywwd\n",
      "[1, 1, 2, 3, 4, 5]\n",
      "ymgzb\n",
      "[1, 1, 2, 3, 4, 5]\n",
      "vpfdi\n",
      "[1, 1, 2, 3, 4, 5]\n",
      "hapzo\n",
      "[1, 1, 2, 3, 4, 5]\n",
      "tgout\n",
      "[1, 1, 2, 3, 4, 4]\n",
      "jkvwp\n",
      "[1, 1, 2, 3, 4, 5]\n",
      "rwzso\n",
      "[1, 1, 2, 3, 4, 5]\n",
      "dwtic\n",
      "[1, 1, 2, 3, 4, 5]\n",
      "eekcx\n",
      "[1, 1, 1, 3, 4, 5]\n",
      "igkez\n",
      "[1, 1, 2, 3, 4, 5]\n",
      "amkel\n",
      "[1, 1, 2, 3, 4, 5]\n",
      "lsdzd\n",
      "[1, 1, 2, 3, 4, 5]\n",
      "wcnpq\n",
      "[1, 1, 2, 3, 4, 5]\n",
      "mzrdj\n",
      "[1, 1, 2, 3, 4, 5]\n",
      "teylw\n",
      "[1, 1, 2, 3, 4, 5]\n",
      "hbcwn\n",
      "[1, 1, 2, 3, 4, 5]\n",
      "nukfp\n",
      "[1, 1, 2, 3, 4, 5]\n",
      "nmqli\n",
      "[1, 1, 2, 3, 4, 5]\n",
      "jxowb\n",
      "[1, 1, 2, 3, 4, 5]\n",
      "tnbjt\n",
      "[1, 1, 2, 3, 4, 4]\n",
      "grpji\n",
      "[1, 1, 2, 3, 4, 5]\n",
      "whfcx\n",
      "[1, 1, 2, 3, 4, 5]\n",
      "ebgeg\n",
      "[1, 1, 2, 3, 3, 5]\n",
      "knezj\n",
      "[1, 1, 2, 3, 4, 5]\n",
      "bwzyr\n",
      "[1, 1, 2, 3, 4, 5]\n",
      "haohv\n",
      "[1, 1, 2, 3, 3, 5]\n",
      "coemh\n",
      "[1, 1, 2, 3, 4, 5]\n",
      "qkgjq\n",
      "[1, 1, 2, 3, 4, 4]\n",
      "ujtqh\n",
      "[1, 1, 2, 3, 4, 5]\n",
      "fkfvz\n",
      "[1, 1, 2, 2, 4, 5]\n",
      "biskd\n",
      "[1, 1, 2, 3, 4, 5]\n",
      "kziym\n",
      "[1, 1, 2, 3, 4, 5]\n",
      "sxmmm\n",
      "[1, 1, 2, 3, 4, 5]\n",
      "bqqbv\n",
      "[1, 1, 2, 3, 3, 5]\n",
      "dzxuk\n",
      "[1, 1, 2, 3, 4, 5]\n",
      "lmizl\n",
      "[1, 1, 2, 3, 4, 4]\n",
      "lqwsi\n",
      "[1, 1, 2, 3, 4, 5]\n",
      "qbvpj\n",
      "[1, 1, 2, 3, 4, 5]\n",
      "xmnyh\n",
      "[1, 1, 2, 3, 4, 5]\n",
      "jpxhp\n",
      "[1, 1, 2, 3, 4, 5]\n",
      "zmpaj\n",
      "[1, 1, 2, 3, 4, 5]\n",
      "qrgqu\n",
      "[1, 1, 2, 3, 3, 5]\n",
      "kahgd\n",
      "[1, 1, 2, 3, 4, 5]\n",
      "bhoex\n",
      "[1, 1, 2, 3, 4, 5]\n",
      "oqmvj\n",
      "[1, 1, 2, 3, 4, 5]\n",
      "lreyt\n",
      "[1, 1, 2, 3, 4, 5]\n",
      "xbgra\n",
      "[1, 1, 2, 3, 4, 5]\n",
      "fdwlm\n",
      "[1, 1, 2, 3, 4, 5]\n",
      "fwxnl\n",
      "[1, 1, 2, 3, 4, 5]\n",
      "pubcy\n",
      "[1, 1, 2, 3, 4, 5]\n",
      "pjexs\n",
      "[1, 1, 2, 3, 4, 5]\n",
      "uffgt\n",
      "[1, 1, 2, 3, 4, 5]\n",
      "yzjuw\n",
      "[1, 1, 2, 3, 4, 5]\n",
      "dtwrq\n",
      "[1, 1, 2, 3, 4, 5]\n",
      "pyzuq\n",
      "[1, 1, 2, 3, 4, 5]\n",
      "gtgvf\n",
      "[1, 1, 2, 2, 4, 5]\n",
      "kzncn\n",
      "[1, 1, 2, 3, 4, 5]\n",
      "kwulb\n",
      "[1, 1, 2, 3, 4, 5]\n",
      "aryzt\n",
      "[1, 1, 2, 3, 4, 5]\n",
      "fluoh\n",
      "[1, 1, 2, 3, 4, 5]\n",
      "wmbpj\n",
      "[1, 1, 2, 3, 4, 5]\n",
      "rlnol\n",
      "[1, 1, 2, 3, 4, 5]\n",
      "rrelr\n",
      "[1, 1, 1, 3, 4, 4]\n",
      "gfvci\n",
      "[1, 1, 2, 3, 4, 5]\n",
      "gmysn\n",
      "[1, 1, 2, 3, 4, 5]\n",
      "jigce\n",
      "[1, 1, 2, 3, 4, 5]\n",
      "icgdi\n",
      "[1, 1, 2, 3, 4, 4]\n",
      "tglfb\n",
      "[1, 1, 2, 3, 4, 5]\n",
      "kjlws\n",
      "[1, 1, 2, 3, 4, 5]\n",
      "ontuk\n",
      "[1, 1, 2, 3, 4, 5]\n",
      "quqtd\n",
      "[1, 1, 2, 2, 4, 5]\n",
      "anflh\n",
      "[1, 1, 2, 3, 4, 5]\n",
      "xelhl\n",
      "[1, 1, 2, 3, 4, 5]\n",
      "hjodc\n",
      "[1, 1, 2, 3, 4, 5]\n",
      "vbajh\n",
      "[1, 1, 2, 3, 4, 5]\n",
      "eiirr\n",
      "[1, 1, 2, 3, 4, 5]\n",
      "isvwl\n",
      "[1, 1, 2, 3, 4, 5]\n",
      "qxbof\n",
      "[1, 1, 2, 3, 4, 5]\n",
      "neyyl\n",
      "[1, 1, 2, 3, 4, 5]\n",
      "ikdaz\n",
      "[1, 1, 2, 3, 4, 5]\n",
      "eupwu\n",
      "[1, 1, 2, 3, 4, 5]\n",
      "wmbvj\n",
      "[1, 1, 2, 3, 4, 5]\n",
      "wbulw\n",
      "[1, 1, 2, 3, 4, 4]\n",
      "gkzvw\n",
      "[1, 1, 2, 3, 4, 5]\n",
      "wwama\n",
      "[1, 1, 1, 3, 4, 5]\n",
      "mbert\n",
      "[1, 1, 2, 3, 4, 5]\n",
      "olicw\n",
      "[1, 1, 2, 3, 4, 5]\n",
      "yinrx\n",
      "[1, 1, 2, 3, 4, 5]\n",
      "vsrfa\n",
      "[1, 1, 2, 3, 4, 5]\n",
      "heqxp\n",
      "[1, 1, 2, 3, 4, 5]\n",
      "ebmie\n",
      "[1, 1, 2, 3, 4, 4]\n",
      "aahit\n",
      "[1, 1, 1, 3, 4, 5]\n",
      "mvqnu\n",
      "[1, 1, 2, 3, 4, 5]\n",
      "qltth\n",
      "[1, 1, 2, 3, 4, 5]\n",
      "zkfaz\n",
      "[1, 1, 2, 3, 4, 4]\n",
      "yrdzi\n",
      "[1, 1, 2, 3, 4, 5]\n",
      "elmve\n",
      "[1, 1, 2, 3, 4, 4]\n",
      "mqvrn\n",
      "[1, 1, 2, 3, 4, 5]\n",
      "bxbcf\n",
      "[1, 1, 2, 2, 4, 5]\n",
      "*** KMP search ***\n",
      "[1, 0, 0, 0, 0, 0, 0, 0, 0, 0, 0, 0, 0, 0, 0, 0, 0, 0, 0, 1, 0, 1, 0, 0, 0, 2, 0, 0, 0, 1, 0, 0, 0, 0, 0, 0, 0, 0, 0, 1, 0, 0, 0, 0, 0, 0, 0, 0, 1, 0, 1, 0, 1, 0, 0, 0, 0, 0, 0, 0, 0, 0, 0, 0, 0, 0, 1, 0, 0, 0, 1, 0, 0, 0, 0, 0, 0, 0, 0, 0, 0, 0, 0, 0, 0, 0, 1, 0, 0, 0, 0, 0, 0, 0, 1, 0, 0, 0, 0, 0]\n",
      "runtime: 0:00:32.148668\n"
     ]
    }
   ],
   "source": [
    "def KMP(text, pattern):\n",
    "    count = 0 \n",
    "    # build table of shift amounts\n",
    "    shifts = [1] * (len(pattern) + 1)\n",
    "    shift = 1\n",
    "    for pos in range(len(pattern)):\n",
    "        while shift <= pos and pattern[pos] != pattern[pos-shift]:\n",
    "            shift += shifts[pos-shift]\n",
    "        shifts[pos+1] = shift\n",
    "    print(shifts)\n",
    "    # do the actual search\n",
    "    startPos = 0\n",
    "    matchLen = 0\n",
    "    for c in text:\n",
    "        while matchLen == len(pattern) or \\\n",
    "              matchLen >= 0 and pattern[matchLen] != c:\n",
    "            startPos += shifts[matchLen]\n",
    "            matchLen -= shifts[matchLen]\n",
    "        matchLen += 1\n",
    "        if matchLen == len(pattern):\n",
    "            count+=1\n",
    "    return count\n",
    "\n",
    "with timeit():\n",
    "    count = []\n",
    "    for i in smallStrings:\n",
    "        print(i)\n",
    "        count.append(KMP(bigString, i))\n",
    "        \n",
    "    print(\"*** KMP search ***\")\n",
    "    print(count)\n"
   ]
  },
  {
   "cell_type": "code",
   "execution_count": 292,
   "metadata": {},
   "outputs": [
    {
     "name": "stdout",
     "output_type": "stream",
     "text": [
      "*** boier_mur search ***\n",
      "[1, 0, 0, 0, 0, 0, 0, 0, 0, 0, 0, 0, 0, 0, 0, 0, 0, 0, 0, 1, 0, 1, 0, 0, 0, 2, 0, 0, 0, 1, 0, 0, 0, 0, 0, 0, 0, 0, 0, 1, 0, 0, 0, 0, 0, 0, 0, 0, 1, 0, 1, 0, 1, 0, 0, 0, 0, 0, 0, 0, 0, 0, 0, 0, 0, 0, 1, 0, 0, 0, 1, 0, 0, 0, 0, 0, 0, 0, 0, 0, 0, 0, 0, 0, 0, 0, 1, 0, 0, 0, 0, 0, 0, 0, 1, 0, 0, 0, 0, 0]\n",
      "runtime: 0:00:04.806251\n"
     ]
    }
   ],
   "source": [
    "def BoyerMooreHorspool(text, pattern):\n",
    "    count = 0\n",
    "    n = len(text)\n",
    "    m = len(pattern)\n",
    "    skip = []\n",
    "    for k in range(256): skip.append(m)\n",
    "    for k in range(m - 1): \n",
    "        skip[ord(pattern[k])] = m - k - 1\n",
    "    skip = tuple(skip)\n",
    "    k = m - 1\n",
    "    while k < n:\n",
    "        j = m - 1; i = k\n",
    "        while j >= 0 and text[i] == pattern[j]:\n",
    "            j -= 1; i -= 1\n",
    "        if j == -1: \n",
    "            count += 1\n",
    "        k += skip[ord(text[k])]\n",
    "    return count\n",
    "\n",
    "\n",
    "with timeit():\n",
    "    count = []\n",
    "    for i in smallStrings:\n",
    "        count.append(BoyerMooreHorspool(bigString, i))\n",
    "        \n",
    "    print(\"*** boier_mur search ***\")\n",
    "    print(count)\n",
    "\n"
   ]
  },
  {
   "cell_type": "code",
   "execution_count": 290,
   "metadata": {},
   "outputs": [
    {
     "data": {
      "text/plain": [
       "3"
      ]
     },
     "execution_count": 290,
     "metadata": {},
     "output_type": "execute_result"
    }
   ],
   "source": []
  },
  {
   "cell_type": "code",
   "execution_count": null,
   "metadata": {},
   "outputs": [],
   "source": []
  },
  {
   "cell_type": "code",
   "execution_count": null,
   "metadata": {},
   "outputs": [],
   "source": []
  },
  {
   "cell_type": "code",
   "execution_count": null,
   "metadata": {},
   "outputs": [],
   "source": [
    "\n"
   ]
  },
  {
   "cell_type": "code",
   "execution_count": null,
   "metadata": {},
   "outputs": [],
   "source": []
  },
  {
   "cell_type": "code",
   "execution_count": 230,
   "metadata": {},
   "outputs": [],
   "source": []
  },
  {
   "cell_type": "code",
   "execution_count": null,
   "metadata": {},
   "outputs": [],
   "source": []
  },
  {
   "cell_type": "code",
   "execution_count": null,
   "metadata": {},
   "outputs": [],
   "source": []
  },
  {
   "cell_type": "code",
   "execution_count": null,
   "metadata": {},
   "outputs": [],
   "source": []
  },
  {
   "cell_type": "code",
   "execution_count": null,
   "metadata": {},
   "outputs": [],
   "source": []
  },
  {
   "cell_type": "code",
   "execution_count": null,
   "metadata": {},
   "outputs": [],
   "source": []
  }
 ],
 "metadata": {
  "kernelspec": {
   "display_name": "Python 3",
   "language": "python",
   "name": "python3"
  },
  "language_info": {
   "codemirror_mode": {
    "name": "ipython",
    "version": 3
   },
   "file_extension": ".py",
   "mimetype": "text/x-python",
   "name": "python",
   "nbconvert_exporter": "python",
   "pygments_lexer": "ipython3",
   "version": "3.5.2"
  }
 },
 "nbformat": 4,
 "nbformat_minor": 2
}
