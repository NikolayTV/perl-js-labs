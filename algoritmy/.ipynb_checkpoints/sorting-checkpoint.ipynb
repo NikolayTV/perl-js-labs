{
 "cells": [
  {
   "cell_type": "code",
   "execution_count": null,
   "metadata": {},
   "outputs": [],
   "source": [
    "\n"
   ]
  },
  {
   "cell_type": "code",
   "execution_count": 123,
   "metadata": {},
   "outputs": [],
   "source": [
    "import random \n",
    "\n",
    "def shellSort(alist):\n",
    "    sublistcount = len(alist)//2\n",
    "    while sublistcount > 0:\n",
    "        for startposition in range(sublistcount):\n",
    "            gapInsertionSort(alist,startposition,sublistcount)\n",
    "        sublistcount = sublistcount // 2\n",
    "    return alist \n",
    "\n",
    "def gapInsertionSort(alist,start,gap):\n",
    "    for i in range(start+gap,len(alist),gap):\n",
    "        currentvalue = alist[i]\n",
    "        position = i\n",
    "\n",
    "        while position>=gap and alist[position-gap]>currentvalue:\n",
    "            alist[position]=alist[position-gap]\n",
    "            position = position-gap\n",
    "\n",
    "        alist[position]=currentvalue\n",
    "\n",
    "        \n",
    "def quick_sort_one(seq):\n",
    "    if len(seq) > 1:\n",
    "        pivot = random.choice(seq)\n",
    "        less = [x for x in seq if x < pivot]\n",
    "        equal = [x for x in seq if x == pivot]\n",
    "        greater = [x for x in seq if x > pivot]\n",
    "        return quick_sort_one(less) + equal + quick_sort_one(greater)\n",
    "    return seq\n",
    "\n",
    "my_randoms = random.sample(range(1000), 1000)\n",
    "my_randoms_copy = my_randoms[:]\n",
    "my_randoms_copy2 = my_randoms[:]\n",
    "my_randoms_copy3 = my_randoms[:]\n"
   ]
  },
  {
   "cell_type": "code",
   "execution_count": 124,
   "metadata": {},
   "outputs": [
    {
     "name": "stdout",
     "output_type": "stream",
     "text": [
      "2.46 ms ± 33.9 µs per loop (mean ± std. dev. of 7 runs, 100 loops each)\n",
      "1.43 ms ± 13.5 µs per loop (mean ± std. dev. of 7 runs, 1000 loops each)\n",
      "10.3 µs ± 83.7 ns per loop (mean ± std. dev. of 7 runs, 100000 loops each)\n",
      "161 µs ± 1.33 µs per loop (mean ± std. dev. of 7 runs, 10000 loops each)\n"
     ]
    },
    {
     "data": {
      "text/plain": [
       "True"
      ]
     },
     "execution_count": 124,
     "metadata": {},
     "output_type": "execute_result"
    }
   ],
   "source": [
    "\n",
    "%timeit quick_sort_one(my_randoms)\n",
    "%timeit shellSort(my_randoms_copy)\n",
    "%timeit my_randoms_copy2.sort()\n",
    "%timeit sorted(my_randoms_copy3)\n",
    "\n",
    "quick_sort_one(my_randoms) == shellSort(my_randoms_copy) == my_randoms_copy2 == sorted(my_randoms_copy3)\n"
   ]
  },
  {
   "cell_type": "code",
   "execution_count": null,
   "metadata": {},
   "outputs": [],
   "source": []
  },
  {
   "cell_type": "code",
   "execution_count": null,
   "metadata": {},
   "outputs": [],
   "source": []
  },
  {
   "cell_type": "code",
   "execution_count": null,
   "metadata": {},
   "outputs": [],
   "source": []
  },
  {
   "cell_type": "code",
   "execution_count": null,
   "metadata": {},
   "outputs": [],
   "source": []
  },
  {
   "cell_type": "code",
   "execution_count": null,
   "metadata": {},
   "outputs": [],
   "source": []
  }
 ],
 "metadata": {
  "kernelspec": {
   "display_name": "Python 3",
   "language": "python",
   "name": "python3"
  },
  "language_info": {
   "codemirror_mode": {
    "name": "ipython",
    "version": 3
   },
   "file_extension": ".py",
   "mimetype": "text/x-python",
   "name": "python",
   "nbconvert_exporter": "python",
   "pygments_lexer": "ipython3",
   "version": "3.5.2"
  }
 },
 "nbformat": 4,
 "nbformat_minor": 2
}
