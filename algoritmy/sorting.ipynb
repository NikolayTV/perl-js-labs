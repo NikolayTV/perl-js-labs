{
 "cells": [
  {
   "cell_type": "code",
   "execution_count": null,
   "metadata": {},
   "outputs": [],
   "source": [
    "\n"
   ]
  },
  {
   "cell_type": "code",
   "execution_count": 4,
   "metadata": {},
   "outputs": [],
   "source": [
    "import random \n",
    "\n",
    "def shellSort(alist):\n",
    "    sublistcount = len(alist)//2\n",
    "    while sublistcount > 0:\n",
    "        for startposition in range(sublistcount):\n",
    "            gapInsertionSort(alist,startposition,sublistcount)\n",
    "        sublistcount = sublistcount // 2\n",
    "    return alist \n",
    "\n",
    "def gapInsertionSort(alist,start,gap):\n",
    "    for i in range(start+gap,len(alist),gap):\n",
    "        currentvalue = alist[i]\n",
    "        position = i\n",
    "\n",
    "        while position>=gap and alist[position-gap]>currentvalue:\n",
    "            alist[position]=alist[position-gap]\n",
    "            position = position-gap\n",
    "\n",
    "        alist[position]=currentvalue\n",
    "\n",
    "        \n",
    "def quick_sort_one(seq):\n",
    "    if len(seq) > 1:\n",
    "        pivot = random.choice(seq)\n",
    "        less = [x for x in seq if x < pivot]\n",
    "        equal = [x for x in seq if x == pivot]\n",
    "        greater = [x for x in seq if x > pivot]\n",
    "        return quick_sort_one(less) + equal + quick_sort_one(greater)\n",
    "    return seq\n",
    "\n",
    "my_randoms = random.sample(range(10000), 10000)\n",
    "my_randoms_copy = my_randoms[:]\n",
    "my_randoms_copy2 = my_randoms[:]\n",
    "my_randoms_copy3 = my_randoms[:]\n",
    "my_randoms_copy4 = my_randoms[:]\n",
    "\n"
   ]
  },
  {
   "cell_type": "code",
   "execution_count": 126,
   "metadata": {},
   "outputs": [
    {
     "name": "stdout",
     "output_type": "stream",
     "text": [
      "29 ms ± 780 µs per loop (mean ± std. dev. of 7 runs, 10 loops each)\n",
      "20.1 ms ± 134 µs per loop (mean ± std. dev. of 7 runs, 100 loops each)\n",
      "102 µs ± 852 ns per loop (mean ± std. dev. of 7 runs, 10000 loops each)\n",
      "2.27 ms ± 14.9 µs per loop (mean ± std. dev. of 7 runs, 100 loops each)\n"
     ]
    },
    {
     "data": {
      "text/plain": [
       "True"
      ]
     },
     "execution_count": 126,
     "metadata": {},
     "output_type": "execute_result"
    }
   ],
   "source": [
    "\n",
    "%timeit quick_sort_one(my_randoms)\n",
    "%timeit shellSort(my_randoms_copy)\n",
    "%timeit my_randoms_copy2.sort()\n",
    "%timeit sorted(my_randoms_copy3)\n",
    "\n",
    "quick_sort_one(my_randoms) == shellSort(my_randoms_copy) == my_randoms_copy2 == sorted(my_randoms_copy3)\n"
   ]
  },
  {
   "cell_type": "code",
   "execution_count": null,
   "metadata": {},
   "outputs": [],
   "source": []
  },
  {
   "cell_type": "code",
   "execution_count": 5,
   "metadata": {},
   "outputs": [
    {
     "name": "stdout",
     "output_type": "stream",
     "text": [
      "2.9 s ± 35.1 ms per loop (mean ± std. dev. of 7 runs, 1 loop each)\n"
     ]
    }
   ],
   "source": [
    "def selection_sort(a):\n",
    "    for i in range(len(a)):\n",
    "        idxMin = i\n",
    "        for j in range(i+1, len(a)):\n",
    "            if a[j] < a[idxMin]:\n",
    "                idxMin = j\n",
    "        tmp = a[idxMin]\n",
    "        a[idxMin] = a[i]\n",
    "        a[i] = tmp\n",
    "    return a\n",
    "\n",
    "%timeit selection_sort(my_randoms_copy4)"
   ]
  },
  {
   "cell_type": "code",
   "execution_count": null,
   "metadata": {},
   "outputs": [],
   "source": []
  },
  {
   "cell_type": "code",
   "execution_count": null,
   "metadata": {},
   "outputs": [],
   "source": []
  },
  {
   "cell_type": "code",
   "execution_count": null,
   "metadata": {},
   "outputs": [],
   "source": []
  }
 ],
 "metadata": {
  "kernelspec": {
   "display_name": "Python 3",
   "language": "python",
   "name": "python3"
  },
  "language_info": {
   "codemirror_mode": {
    "name": "ipython",
    "version": 3
   },
   "file_extension": ".py",
   "mimetype": "text/x-python",
   "name": "python",
   "nbconvert_exporter": "python",
   "pygments_lexer": "ipython3",
   "version": "3.5.2"
  }
 },
 "nbformat": 4,
 "nbformat_minor": 2
}
